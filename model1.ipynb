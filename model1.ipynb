{
 "cells": [
  {
   "cell_type": "code",
   "execution_count": null,
   "id": "284d37e2",
   "metadata": {},
   "outputs": [],
   "source": [
    "import numpy as np\n",
    "import matplotlib.pyplot as plt\n",
    "from tensorflow import keras\n",
    "from tensorflow.keras.layers import Dense, Flatten, Conv2D, MaxPool2D, Dropout, BatchNormalization"
   ]
  },
  {
   "cell_type": "code",
   "execution_count": null,
   "id": "6efd28fc",
   "metadata": {},
   "outputs": [],
   "source": [
    "(img_train, label_train), (img_test, label_test) = keras.datasets.fashion_mnist.load_data()"
   ]
  },
  {
   "cell_type": "code",
   "execution_count": null,
   "id": "0c54b8d7",
   "metadata": {},
   "outputs": [],
   "source": [
    "print(img_train.shape)"
   ]
  },
  {
   "cell_type": "code",
   "execution_count": null,
   "id": "b67214c3",
   "metadata": {},
   "outputs": [],
   "source": [
    "img_train = img_train[:50000]\n",
    "label_train = label_train[:50000]\n",
    "img_test = img_test[:10000]\n",
    "label_test = label_test[:10000]\n",
    "\n",
    "img_train = img_train.astype('float32') / 255.0\n",
    "img_test = img_test.astype('float32') / 255.0\n",
    "\n",
    "label_train = keras.utils.to_categorical(label_train, 10)\n",
    "label_test = keras.utils.to_categorical(label_test, 10)"
   ]
  },
  {
   "cell_type": "code",
   "execution_count": null,
   "id": "17d4125a",
   "metadata": {},
   "outputs": [],
   "source": [
    "model = keras.Sequential([\n",
    "    Conv2D(32, (3,3), activation='relu', input_shape=(28,28,1)),\n",
    "    MaxPool2D((2,2), strides=2),\n",
    "    BatchNormalization(),\n",
    "\n",
    "    Conv2D(64, (3,3), activation='relu'),\n",
    "    MaxPool2D((2,2),strides=2),\n",
    "    BatchNormalization(),\n",
    "    Dropout(0.3),\n",
    "\n",
    "    Conv2D(64, (3,3), activation='relu'),\n",
    "    BatchNormalization(),\n",
    "\n",
    "    Flatten(),\n",
    "    Dense(112, activation='relu'),\n",
    "    Dropout(0.3),\n",
    "    Dense(10, activation='softmax')\n",
    "])\n",
    "\n",
    "model.compile(optimizer='adam',\n",
    "    loss='categorical_crossentropy',\n",
    "    metrics=['accuracy'])\n",
    "\n",
    "history = model.fit(img_train, label_train, batch_size=32, epochs=20,validation_data=(img_test,label_test),verbose=1)\n"
   ]
  },
  {
   "cell_type": "code",
   "execution_count": null,
   "id": "c84e682a",
   "metadata": {},
   "outputs": [],
   "source": [
    "model.evaluate(img_test, label_test)"
   ]
  },
  {
   "cell_type": "code",
   "execution_count": null,
   "id": "b921c85c",
   "metadata": {},
   "outputs": [],
   "source": [
    "import matplotlib.pyplot as plt\n",
    "\n",
    "# --- График точности ---\n",
    "plt.figure(figsize=(8,5))\n",
    "plt.plot(history.history['accuracy'], label='Точность на обучении')\n",
    "plt.plot(history.history['val_accuracy'], label='Точность на валидации')\n",
    "plt.title('Динамика точности')\n",
    "plt.xlabel('Эпоха')\n",
    "plt.ylabel('Точность')\n",
    "plt.legend()\n",
    "plt.grid(True)\n",
    "plt.show()\n",
    "\n",
    "# --- График потерь ---\n",
    "plt.figure(figsize=(8,5))\n",
    "plt.plot(history.history['loss'], label='Потери на обучении')\n",
    "plt.plot(history.history['val_loss'], label='Потери на валидации')\n",
    "plt.title('Динамика функции потерь')\n",
    "plt.xlabel('Эпоха')\n",
    "plt.ylabel('Потери')\n",
    "plt.legend()\n",
    "plt.grid(True)\n",
    "plt.show()\n"
   ]
  }
 ],
 "metadata": {
  "kernelspec": {
   "display_name": "Python 3",
   "language": "python",
   "name": "python3"
  },
  "language_info": {
   "codemirror_mode": {
    "name": "ipython",
    "version": 3
   },
   "file_extension": ".py",
   "mimetype": "text/x-python",
   "name": "python",
   "nbconvert_exporter": "python",
   "pygments_lexer": "ipython3",
   "version": "3.12.4"
  }
 },
 "nbformat": 4,
 "nbformat_minor": 5
}
