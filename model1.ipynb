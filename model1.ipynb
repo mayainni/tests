{
 "cells": [
  {
   "cell_type": "code",
   "execution_count": 1,
   "id": "284d37e2",
   "metadata": {},
   "outputs": [],
   "source": [
    "import numpy as np\n",
    "import matplotlib.pyplot as plt\n",
    "import tensorflow as tf\n",
    "from tensorflow import keras\n",
    "from tensorflow.keras.layers import Dense, Flatten, Conv2D, MaxPool2D\n",
    "import tensorflow_datasets as tfds"
   ]
  },
  {
   "cell_type": "code",
   "execution_count": 2,
   "id": "15d786a5",
   "metadata": {},
   "outputs": [],
   "source": [
    "def property_image(image,label):\n",
    "    image = tf.image.resize(image, size=[150,150])\n",
    "    image /= 255\n",
    "    return image,label"
   ]
  },
  {
   "cell_type": "code",
   "execution_count": null,
   "id": "6efd28fc",
   "metadata": {},
   "outputs": [],
   "source": [
    "#Не рабочий дата сет, в падлу решать ошибки(решал 1 час), поэтому анлаки\n",
    "train_dataset = tfds.load(name='cats_vs_dogs',\n",
    "    split='train[:80%]',\n",
    "    as_supervised=True,\n",
    "    shuffle_files=True)\n",
    "\n",
    "test_dataset = tfds.load(name='cats_vs_dogs',\n",
    "    split='train[80%:]',\n",
    "    as_supervised=True,\n",
    "    shuffle_files=True)"
   ]
  },
  {
   "cell_type": "code",
   "execution_count": null,
   "id": "e4154103",
   "metadata": {},
   "outputs": [],
   "source": [
    "batch_size = 32\n",
    "train_data = train_dataset.map(property_image).batch(batch_size).prefetch(tf.data.AUTOTUNE)\n",
    "test_data = test_dataset.map(property_image).batch(batch_size).prefetch(tf.data.AUTOTUNE)"
   ]
  },
  {
   "cell_type": "code",
   "execution_count": null,
   "id": "17d4125a",
   "metadata": {},
   "outputs": [],
   "source": [
    "model = keras.Sequential([\n",
    "    Conv2D(32, (3,3), activation='relu', input_shape=(150,150,3)),\n",
    "    MaxPool2D((2,2), strides=2),\n",
    "\n",
    "    Conv2D(64, (3,3), activation='relu'),\n",
    "    MaxPool2D((2,2),strides=2),\n",
    "\n",
    "    Flatten(),\n",
    "    Dense(128, activation='relu'),\n",
    "    Dense(1, activation='sigmoid')\n",
    "])\n",
    "\n",
    "model.compile(optimizer='adam',\n",
    "              loss='binary_crossentropy',\n",
    "              metrics=['accuracy'])\n",
    "\n",
    "history = model.fit(train_data, epochs=5, validation_data=test_dataset)\n"
   ]
  },
  {
   "cell_type": "code",
   "execution_count": null,
   "id": "c84e682a",
   "metadata": {},
   "outputs": [],
   "source": [
    "print(model.summary())"
   ]
  }
 ],
 "metadata": {
  "kernelspec": {
   "display_name": "Python 3",
   "language": "python",
   "name": "python3"
  },
  "language_info": {
   "codemirror_mode": {
    "name": "ipython",
    "version": 3
   },
   "file_extension": ".py",
   "mimetype": "text/x-python",
   "name": "python",
   "nbconvert_exporter": "python",
   "pygments_lexer": "ipython3",
   "version": "3.12.4"
  }
 },
 "nbformat": 4,
 "nbformat_minor": 5
}
