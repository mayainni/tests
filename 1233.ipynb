{
 "cells": [
  {
   "cell_type": "code",
   "execution_count": 1,
   "id": "d8ce29f1",
   "metadata": {},
   "outputs": [
    {
     "name": "stdout",
     "output_type": "stream",
     "text": [
      "Requirement already satisfied: keras in c:\\users\\pasha\\appdata\\local\\programs\\python\\python313\\lib\\site-packages (3.11.3)\n",
      "Requirement already satisfied: absl-py in c:\\users\\pasha\\appdata\\local\\programs\\python\\python313\\lib\\site-packages (from keras) (2.3.1)\n",
      "Requirement already satisfied: numpy in c:\\users\\pasha\\appdata\\local\\programs\\python\\python313\\lib\\site-packages (from keras) (2.3.3)\n",
      "Requirement already satisfied: rich in c:\\users\\pasha\\appdata\\local\\programs\\python\\python313\\lib\\site-packages (from keras) (14.2.0)\n",
      "Requirement already satisfied: namex in c:\\users\\pasha\\appdata\\local\\programs\\python\\python313\\lib\\site-packages (from keras) (0.1.0)\n",
      "Requirement already satisfied: h5py in c:\\users\\pasha\\appdata\\local\\programs\\python\\python313\\lib\\site-packages (from keras) (3.14.0)\n",
      "Requirement already satisfied: optree in c:\\users\\pasha\\appdata\\local\\programs\\python\\python313\\lib\\site-packages (from keras) (0.17.0)\n",
      "Requirement already satisfied: ml-dtypes in c:\\users\\pasha\\appdata\\local\\programs\\python\\python313\\lib\\site-packages (from keras) (0.5.3)\n",
      "Requirement already satisfied: packaging in c:\\users\\pasha\\appdata\\roaming\\python\\python313\\site-packages (from keras) (25.0)\n",
      "Requirement already satisfied: typing-extensions>=4.6.0 in c:\\users\\pasha\\appdata\\local\\programs\\python\\python313\\lib\\site-packages (from optree->keras) (4.15.0)\n",
      "Requirement already satisfied: markdown-it-py>=2.2.0 in c:\\users\\pasha\\appdata\\local\\programs\\python\\python313\\lib\\site-packages (from rich->keras) (4.0.0)\n",
      "Requirement already satisfied: pygments<3.0.0,>=2.13.0 in c:\\users\\pasha\\appdata\\roaming\\python\\python313\\site-packages (from rich->keras) (2.19.2)\n",
      "Requirement already satisfied: mdurl~=0.1 in c:\\users\\pasha\\appdata\\local\\programs\\python\\python313\\lib\\site-packages (from markdown-it-py>=2.2.0->rich->keras) (0.1.2)\n",
      "Note: you may need to restart the kernel to use updated packages.\n"
     ]
    }
   ],
   "source": [
    "pip install keras"
   ]
  }
 ],
 "metadata": {
  "kernelspec": {
   "display_name": "Python 3",
   "language": "python",
   "name": "python3"
  },
  "language_info": {
   "codemirror_mode": {
    "name": "ipython",
    "version": 3
   },
   "file_extension": ".py",
   "mimetype": "text/x-python",
   "name": "python",
   "nbconvert_exporter": "python",
   "pygments_lexer": "ipython3",
   "version": "3.13.7"
  }
 },
 "nbformat": 4,
 "nbformat_minor": 5
}
