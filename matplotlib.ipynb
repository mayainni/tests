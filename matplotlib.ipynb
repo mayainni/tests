{
 "cells": [
  {
   "cell_type": "code",
   "execution_count": 10,
   "id": "be2c25d6",
   "metadata": {},
   "outputs": [],
   "source": [
    "import numpy as np\n",
    "import matplotlib.pyplot as plt"
   ]
  },
  {
   "cell_type": "code",
   "execution_count": null,
   "id": "bc06d698",
   "metadata": {},
   "outputs": [],
   "source": [
    "#plt.figure(Figure='cycle')\n",
    "plt.plot([-6, -4, 2, 1, 0], [-6, -4, 2, 1, 0] , color = '#735184')\n",
    "\n",
    "\n",
    "plt.show()\n",
    "\n",
    "plt.plot([-6, -4, 2, 1, 0])\n",
    "plt.show()"
   ]
  }
 ],
 "metadata": {
  "kernelspec": {
   "display_name": "Python 3",
   "language": "python",
   "name": "python3"
  },
  "language_info": {
   "codemirror_mode": {
    "name": "ipython",
    "version": 3
   },
   "file_extension": ".py",
   "mimetype": "text/x-python",
   "name": "python",
   "nbconvert_exporter": "python",
   "pygments_lexer": "ipython3",
   "version": "3.12.4"
  }
 },
 "nbformat": 4,
 "nbformat_minor": 5
}
