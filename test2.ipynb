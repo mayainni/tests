{
 "cells": [
  {
   "cell_type": "code",
   "execution_count": 1,
   "id": "c7160fbe",
   "metadata": {},
   "outputs": [],
   "source": [
    "import numpy as np\n",
    "import matplotlib.pyplot as plt\n",
    "from tensorflow import keras \n",
    "from tensorflow.keras.layers import Dense, Flatten, Dropout\n",
    "from tensorflow.keras.datasets import mnist"
   ]
  },
  {
   "cell_type": "code",
   "execution_count": null,
   "id": "20a6ea3b",
   "metadata": {},
   "outputs": [],
   "source": [
    "(x_train, y_train), (x_test, y_test) = mnist.load_data()\n",
    "\n",
    "# стандартизация входных данных\n",
    "x_train = x_train / 255\n",
    "x_test = x_test / 255\n",
    "\n",
    "y_train_cat = keras.utils.to_categorical(y_train, 10)\n",
    "y_test_cat = keras.utils.to_categorical(y_test, 10)\n",
    "\n",
    "limit = 50000\n",
    "x_train_data = x_train[:limit]\n",
    "y_train_data = y_train_cat[:limit]\n",
    "\n",
    "x_valid = x_train[limit:limit*2]\n",
    "y_valid = y_train_cat[limit:limit*2]\n",
    "\n",
    "model = keras.Sequential([\n",
    "    Flatten(input_shape=(28, 28, 1)),\n",
    "    Dense(150, activation='relu'),\n",
    "    Dropout(0.2),\n",
    "    Dense(10, activation='softmax') ])\n",
    "\n",
    "print(model.summary())      # вывод структуры НС в консоль\n",
    "\n",
    "model.compile(optimizer='adam',\n",
    "             loss='categorical_crossentropy',\n",
    "             metrics=['accuracy'])\n",
    "\n",
    "\n",
    "his = model.fit(x_train_data, y_train_data, epochs=10, batch_size=32, validation_data=(x_valid, y_valid))\n",
    "\n",
    "\n",
    "plt.plot(his.history['loss'])\n",
    "plt.plot(his.history['val_loss'])\n",
    "plt.show()"
   ]
  }
 ],
 "metadata": {
  "kernelspec": {
   "display_name": "Python 3",
   "language": "python",
   "name": "python3"
  },
  "language_info": {
   "codemirror_mode": {
    "name": "ipython",
    "version": 3
   },
   "file_extension": ".py",
   "mimetype": "text/x-python",
   "name": "python",
   "nbconvert_exporter": "python",
   "pygments_lexer": "ipython3",
   "version": "3.12.4"
  }
 },
 "nbformat": 4,
 "nbformat_minor": 5
}
