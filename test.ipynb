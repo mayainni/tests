{
 "cells": [
  {
   "cell_type": "code",
   "execution_count": null,
   "id": "c89f09d1",
   "metadata": {},
   "outputs": [],
   "source": [
    "import numpy as np\n",
    "import matplotlib.pyplot as plt\n",
    "\n",
    "N = 5\n",
    "\n",
    "x1 = np.random.random(N)\n",
    "x2 = x1 + [np.random.randint(10)/10 for i in range(N)]\n",
    "C1 = [x1,x2]\n",
    "\n",
    "x1 = np.random.random(N)\n",
    "x2 = x1 - [np.random.randint(10)/10 for i in range(N)] - 0.1\n",
    "C2 = [x1,x2]\n",
    "\n",
    "f = [0,1]\n",
    "\n",
    "w = np.array([-0.3,0.3])\n",
    "for i in range(N):\n",
    "    x = np.array([C2[0][i], C2[1][i]])\n",
    "    y = np.dot(w,x)\n",
    "    if y >= 0:\n",
    "         print(\"Class C1\")\n",
    "    else:\n",
    "         print(\"Class C2\")\n",
    "\n",
    "plt.scatter(C1[0][:], C1[1][:], s=10, c='red')\n",
    "plt.scatter(C2[0][:], C2[1][:], s=10, c='blue')\n",
    "plt.plot(f)\n",
    "plt.grid(True)\n",
    "plt.show()"
   ]
  },
  {
   "cell_type": "code",
   "execution_count": 11,
   "id": "b2c1c9aa",
   "metadata": {},
   "outputs": [
    {
     "name": "stdout",
     "output_type": "stream",
     "text": [
      "Выходное значение НС: -0.9346391460947872 => -1\n",
      "Выходное значение НС: 0.9379753713709149 => 1\n",
      "Выходное значение НС: -0.9345965166278849 => -1\n",
      "Выходное значение НС: 0.9360938349252215 => 1\n",
      "Выходное значение НС: -0.9360938349252215 => -1\n",
      "Выходное значение НС: 0.9345965166278849 => 1\n",
      "Выходное значение НС: -0.9379753713709148 => -1\n",
      "Выходное значение НС: 0.9346391460947874 => 1\n"
     ]
    }
   ],
   "source": [
    "import numpy as np\n",
    "\n",
    "def f(x):\n",
    "    return 2/(1 + np.exp(-x)) - 1\n",
    "def df(x):\n",
    "    return 0.5*(1+x)*(1-x)\n",
    "\n",
    "W1 = np.array([[-0.3, 0.1,0.4],\n",
    "               [-0.1,0.5,-0.4]])\n",
    "W2 = np.array([0.1,-0.4])\n",
    "\n",
    "def go_forward(inp):\n",
    "    sum = np.dot(W1, inp)\n",
    "    out = np.array([f(x) for x in sum])\n",
    "\n",
    "    sum = np.dot(W2, out)\n",
    "    y = f(sum)\n",
    "    return (y, out)\n",
    "\n",
    "def train(epoch):\n",
    "    global W2, W1\n",
    "    lmd = 0.01\n",
    "    N = 10000\n",
    "    count = len(epoch)\n",
    "    for k in range(N):\n",
    "        x = epoch[np.random.randint(0, count)]\n",
    "        y, out = go_forward(x[0:3])\n",
    "        e = y - x[-1]\n",
    "        delta = e*df(y)\n",
    "        W2[0] = W2[0] - lmd * delta * out[0]\n",
    "        W2[1] = W2[1] - lmd * delta * out[1]\n",
    "        \n",
    "        delta2 = W2*delta*df(out)\n",
    "\n",
    "        W1[0, :] = W1[0, :] - np.array(x[0:3]) * delta2[0] * lmd\n",
    "        W1[1, :] = W1[1, :] - np.array(x[0:3]) * delta2[1] * lmd\n",
    "\n",
    "epoch = [(-1, -1, -1, -1),\n",
    "         (-1, -1, 1, 1),\n",
    "         (-1, 1, -1, -1),\n",
    "         (-1, 1, 1, 1),\n",
    "         (1, -1, -1, -1),\n",
    "         (1, -1, 1, 1),\n",
    "         (1, 1, -1, -1),\n",
    "         (1, 1, 1, 1)]\n",
    "\n",
    "train(epoch)\n",
    "\n",
    "for x in epoch:\n",
    "    y, out = go_forward(x[0:3])\n",
    "    print(f\"Выходное значение НС: {y} => {x[-1]}\")"
   ]
  },
  {
   "cell_type": "code",
   "execution_count": 1,
   "id": "8eafe848",
   "metadata": {},
   "outputs": [
    {
     "name": "stdout",
     "output_type": "stream",
     "text": [
      "Requirement already satisfied: keras in c:\\users\\pasha\\appdata\\local\\programs\\python\\python313\\lib\\site-packages (3.11.3)\n",
      "Requirement already satisfied: absl-py in c:\\users\\pasha\\appdata\\local\\programs\\python\\python313\\lib\\site-packages (from keras) (2.3.1)\n",
      "Requirement already satisfied: numpy in c:\\users\\pasha\\appdata\\local\\programs\\python\\python313\\lib\\site-packages (from keras) (2.3.3)\n",
      "Requirement already satisfied: rich in c:\\users\\pasha\\appdata\\local\\programs\\python\\python313\\lib\\site-packages (from keras) (14.2.0)\n",
      "Requirement already satisfied: namex in c:\\users\\pasha\\appdata\\local\\programs\\python\\python313\\lib\\site-packages (from keras) (0.1.0)\n",
      "Requirement already satisfied: h5py in c:\\users\\pasha\\appdata\\local\\programs\\python\\python313\\lib\\site-packages (from keras) (3.14.0)\n",
      "Requirement already satisfied: optree in c:\\users\\pasha\\appdata\\local\\programs\\python\\python313\\lib\\site-packages (from keras) (0.17.0)\n",
      "Requirement already satisfied: ml-dtypes in c:\\users\\pasha\\appdata\\local\\programs\\python\\python313\\lib\\site-packages (from keras) (0.5.3)\n",
      "Requirement already satisfied: packaging in c:\\users\\pasha\\appdata\\roaming\\python\\python313\\site-packages (from keras) (25.0)\n",
      "Requirement already satisfied: typing-extensions>=4.6.0 in c:\\users\\pasha\\appdata\\local\\programs\\python\\python313\\lib\\site-packages (from optree->keras) (4.15.0)\n",
      "Requirement already satisfied: markdown-it-py>=2.2.0 in c:\\users\\pasha\\appdata\\local\\programs\\python\\python313\\lib\\site-packages (from rich->keras) (4.0.0)\n",
      "Requirement already satisfied: pygments<3.0.0,>=2.13.0 in c:\\users\\pasha\\appdata\\roaming\\python\\python313\\site-packages (from rich->keras) (2.19.2)\n",
      "Requirement already satisfied: mdurl~=0.1 in c:\\users\\pasha\\appdata\\local\\programs\\python\\python313\\lib\\site-packages (from markdown-it-py>=2.2.0->rich->keras) (0.1.2)\n",
      "Note: you may need to restart the kernel to use updated packages.\n"
     ]
    }
   ],
   "source": [
    "pip install keras"
   ]
  },
  {
   "cell_type": "code",
   "execution_count": 2,
   "id": "d5e5b131",
   "metadata": {},
   "outputs": [
    {
     "ename": "ModuleNotFoundError",
     "evalue": "No module named 'tensorflow.keras.leyers'",
     "output_type": "error",
     "traceback": [
      "\u001b[31m---------------------------------------------------------------------------\u001b[39m",
      "\u001b[31mModuleNotFoundError\u001b[39m                       Traceback (most recent call last)",
      "\u001b[36mCell\u001b[39m\u001b[36m \u001b[39m\u001b[32mIn[2]\u001b[39m\u001b[32m, line 7\u001b[39m\n\u001b[32m      5\u001b[39m \u001b[38;5;28;01mimport\u001b[39;00m\u001b[38;5;250m \u001b[39m\u001b[34;01mmatplotlib\u001b[39;00m\u001b[34;01m.\u001b[39;00m\u001b[34;01mpyplot\u001b[39;00m\u001b[38;5;250m \u001b[39m\u001b[38;5;28;01mas\u001b[39;00m\u001b[38;5;250m \u001b[39m\u001b[34;01mplt\u001b[39;00m\n\u001b[32m      6\u001b[39m \u001b[38;5;28;01mfrom\u001b[39;00m\u001b[38;5;250m \u001b[39m\u001b[34;01mtensorflow\u001b[39;00m\u001b[38;5;250m \u001b[39m\u001b[38;5;28;01mimport\u001b[39;00m keras\n\u001b[32m----> \u001b[39m\u001b[32m7\u001b[39m \u001b[38;5;28;01mfrom\u001b[39;00m\u001b[38;5;250m \u001b[39m\u001b[34;01mtensorflow\u001b[39;00m\u001b[34;01m.\u001b[39;00m\u001b[34;01mkeras\u001b[39;00m\u001b[34;01m.\u001b[39;00m\u001b[34;01mleyers\u001b[39;00m\u001b[38;5;250m \u001b[39m\u001b[38;5;28;01mimport\u001b[39;00m Dense\n",
      "\u001b[31mModuleNotFoundError\u001b[39m: No module named 'tensorflow.keras.leyers'"
     ]
    }
   ],
   "source": [
    "import os\n",
    "os.environ['TF_CPP_MIN_LOG_LEVEL'] = '2'\n",
    "\n",
    "import numpy as np\n",
    "import matplotlib.pyplot as plt\n",
    "from tensorflow import keras\n",
    "from tensorflow.keras.leyers import Dense\n"
   ]
  }
 ],
 "metadata": {
  "kernelspec": {
   "display_name": "Python 3",
   "language": "python",
   "name": "python3"
  },
  "language_info": {
   "codemirror_mode": {
    "name": "ipython",
    "version": 3
   },
   "file_extension": ".py",
   "mimetype": "text/x-python",
   "name": "python",
   "nbconvert_exporter": "python",
   "pygments_lexer": "ipython3",
   "version": "3.13.7"
  }
 },
 "nbformat": 4,
 "nbformat_minor": 5
}
